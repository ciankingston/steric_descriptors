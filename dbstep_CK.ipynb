{
 "cells": [
  {
   "cell_type": "markdown",
   "metadata": {},
   "source": [
    "https://github.com/bobbypaton/DBSTEP"
   ]
  },
  {
   "cell_type": "code",
   "execution_count": 7,
   "metadata": {
    "ExecuteTime": {
     "end_time": "2022-01-17T19:15:27.552650Z",
     "start_time": "2022-01-17T19:15:27.545930Z"
    }
   },
   "outputs": [],
   "source": [
    "import dbstep.Dbstep as db\n",
    "import pandas as pd\n",
    "import os\n",
    "import openpyxl\n",
    "#import openbabel"
   ]
  },
  {
   "cell_type": "markdown",
   "metadata": {},
   "source": [
    "**Sterimol**"
   ]
  },
  {
   "cell_type": "code",
   "execution_count": 8,
   "metadata": {
    "ExecuteTime": {
     "end_time": "2022-01-17T19:19:30.971191Z",
     "start_time": "2022-01-17T19:19:30.960174Z"
    }
   },
   "outputs": [
    {
     "name": "stdout",
     "output_type": "stream",
     "text": [
      "3\n",
      "['1_1.log', '2_1.log', '3_1.log']\n"
     ]
    }
   ],
   "source": [
    "files = os.listdir('/Users/cian/dropbox/modelling/example_logs/')\n",
    "files = sorted(files)\n",
    "#files.remove('.DS_Store')\n",
    "print(len(files))\n",
    "print(files)"
   ]
  },
  {
   "cell_type": "code",
   "execution_count": 9,
   "metadata": {
    "ExecuteTime": {
     "end_time": "2022-01-17T19:19:42.281678Z",
     "start_time": "2022-01-17T19:19:42.228158Z"
    }
   },
   "outputs": [
    {
     "data": {
      "text/html": [
       "<div>\n",
       "<style scoped>\n",
       "    .dataframe tbody tr th:only-of-type {\n",
       "        vertical-align: middle;\n",
       "    }\n",
       "\n",
       "    .dataframe tbody tr th {\n",
       "        vertical-align: top;\n",
       "    }\n",
       "\n",
       "    .dataframe thead th {\n",
       "        text-align: right;\n",
       "    }\n",
       "</style>\n",
       "<table border=\"1\" class=\"dataframe\">\n",
       "  <thead>\n",
       "    <tr style=\"text-align: right;\">\n",
       "      <th></th>\n",
       "      <th>File</th>\n",
       "      <th>L</th>\n",
       "      <th>Bmin</th>\n",
       "      <th>Bmax</th>\n",
       "    </tr>\n",
       "  </thead>\n",
       "  <tbody>\n",
       "  </tbody>\n",
       "</table>\n",
       "</div>"
      ],
      "text/plain": [
       "Empty DataFrame\n",
       "Columns: [File, L, Bmin, Bmax]\n",
       "Index: []"
      ]
     },
     "execution_count": 9,
     "metadata": {},
     "output_type": "execute_result"
    }
   ],
   "source": [
    "params = {'File':[], 'L':[], 'Bmin':[], 'Bmax':[]}\n",
    "df = pd.DataFrame(params, columns = ['File','L','Bmin','Bmax'])\n",
    "df"
   ]
  },
  {
   "cell_type": "code",
   "execution_count": 10,
   "metadata": {
    "ExecuteTime": {
     "end_time": "2022-01-17T19:20:17.253261Z",
     "start_time": "2022-01-17T19:20:16.883251Z"
    }
   },
   "outputs": [
    {
     "name": "stdout",
     "output_type": "stream",
     "text": [
      "/Users/cian/dropbox/modelling/example_logs/1_1.log\n",
      "\n",
      "   /Users/cian/dropbox/modelling/example_logs/1_1.log will be analyzed using the vdw surface\n",
      "   Defining the molecule with Bondi atomic radii scaled by 1.0\n",
      "\n",
      "   Translating molecule by [-0.728401  0.045126 -0.      ] to set Br1 at the origin\n",
      "   Rotating molecule about X-axis 90.00 degrees\n",
      "   Rotating molecule about Y-axis 72.46 degrees\n",
      "\n",
      "   Molecule is bounded by the region X:[-3.850 to  3.850] Y:[-3.850 to  3.850] Z:[-3.850 to  4.850]\n",
      "\n",
      "   Steric parameters will be generated in classic mode for /Users/cian/dropbox/modelling/example_logs/1_1.log\n",
      "\n",
      "   /Users/cian/dropbox/modelling/example_logs/1_1.log / Bmin:  1.83 / Bmax:  3.19 / L:  4.80\n",
      "/Users/cian/dropbox/modelling/example_logs/2_1.log\n",
      "\n",
      "   /Users/cian/dropbox/modelling/example_logs/2_1.log will be analyzed using the vdw surface\n",
      "   Defining the molecule with Bondi atomic radii scaled by 1.0\n",
      "\n",
      "   Translating molecule by [ 1.245756  0.035864 -0.      ] to set Br1 at the origin\n",
      "   Rotating molecule about X-axis 90.00 degrees\n",
      "   Rotating molecule about Y-axis 286.03 degrees\n",
      "\n",
      "   Molecule is bounded by the region X:[-3.850 to  3.850] Y:[-3.850 to  3.850] Z:[-3.850 to  5.900]\n",
      "\n",
      "   Steric parameters will be generated in classic mode for /Users/cian/dropbox/modelling/example_logs/2_1.log\n",
      "\n",
      "   /Users/cian/dropbox/modelling/example_logs/2_1.log / Bmin:  1.83 / Bmax:  3.17 / L:  5.83\n",
      "/Users/cian/dropbox/modelling/example_logs/3_1.log\n",
      "\n",
      "   /Users/cian/dropbox/modelling/example_logs/3_1.log will be analyzed using the vdw surface\n",
      "   Defining the molecule with Bondi atomic radii scaled by 1.0\n",
      "\n",
      "   Translating molecule by [-1.039178  0.14514  -0.      ] to set Br1 at the origin\n",
      "   Rotating molecule about X-axis 90.00 degrees\n",
      "   Rotating molecule about Y-axis 52.09 degrees\n",
      "\n",
      "   Molecule is bounded by the region X:[-4.250 to  3.850] Y:[-3.850 to  3.850] Z:[-3.850 to  4.850]\n",
      "\n",
      "   Steric parameters will be generated in classic mode for /Users/cian/dropbox/modelling/example_logs/3_1.log\n",
      "\n",
      "   /Users/cian/dropbox/modelling/example_logs/3_1.log / Bmin:  1.83 / Bmax:  4.27 / L:  4.82\n"
     ]
    }
   ],
   "source": [
    "count = 0\n",
    "for i in files:\n",
    "    fp = str('/Users/cian/dropbox/modelling/example_logs/'+str(i))\n",
    "    print(fp)\n",
    "    mol = db.dbstep(fp,atom1=1,atom2=2,commandline=True,verbose=True,sterimol=True,measure='classic')\n",
    "    L = mol.L\n",
    "    Bmin = mol.Bmin\n",
    "    Bmax = mol.Bmax\n",
    "    x = [i,L,Bmin,Bmax]\n",
    "    df.loc[count] = x\n",
    "    count+=1"
   ]
  },
  {
   "cell_type": "code",
   "execution_count": 11,
   "metadata": {
    "ExecuteTime": {
     "end_time": "2022-01-17T19:21:23.820094Z",
     "start_time": "2022-01-17T19:21:23.796485Z"
    }
   },
   "outputs": [
    {
     "data": {
      "text/html": [
       "<div>\n",
       "<style scoped>\n",
       "    .dataframe tbody tr th:only-of-type {\n",
       "        vertical-align: middle;\n",
       "    }\n",
       "\n",
       "    .dataframe tbody tr th {\n",
       "        vertical-align: top;\n",
       "    }\n",
       "\n",
       "    .dataframe thead th {\n",
       "        text-align: right;\n",
       "    }\n",
       "</style>\n",
       "<table border=\"1\" class=\"dataframe\">\n",
       "  <thead>\n",
       "    <tr style=\"text-align: right;\">\n",
       "      <th></th>\n",
       "      <th>File</th>\n",
       "      <th>L</th>\n",
       "      <th>Bmin</th>\n",
       "      <th>Bmax</th>\n",
       "    </tr>\n",
       "  </thead>\n",
       "  <tbody>\n",
       "    <tr>\n",
       "      <th>0</th>\n",
       "      <td>1_1.log</td>\n",
       "      <td>4.801229</td>\n",
       "      <td>1.83</td>\n",
       "      <td>3.188027</td>\n",
       "    </tr>\n",
       "    <tr>\n",
       "      <th>1</th>\n",
       "      <td>2_1.log</td>\n",
       "      <td>5.829749</td>\n",
       "      <td>1.83</td>\n",
       "      <td>3.167256</td>\n",
       "    </tr>\n",
       "    <tr>\n",
       "      <th>2</th>\n",
       "      <td>3_1.log</td>\n",
       "      <td>4.821162</td>\n",
       "      <td>1.83</td>\n",
       "      <td>4.270105</td>\n",
       "    </tr>\n",
       "  </tbody>\n",
       "</table>\n",
       "</div>"
      ],
      "text/plain": [
       "      File         L  Bmin      Bmax\n",
       "0  1_1.log  4.801229  1.83  3.188027\n",
       "1  2_1.log  5.829749  1.83  3.167256\n",
       "2  3_1.log  4.821162  1.83  4.270105"
      ]
     },
     "execution_count": 11,
     "metadata": {},
     "output_type": "execute_result"
    }
   ],
   "source": [
    "df"
   ]
  },
  {
   "cell_type": "code",
   "execution_count": null,
   "metadata": {},
   "outputs": [],
   "source": [
    "df.to_excel(r'sterimol.xlsx', index = False)"
   ]
  },
  {
   "cell_type": "markdown",
   "metadata": {},
   "source": [
    "For a single file"
   ]
  },
  {
   "cell_type": "code",
   "execution_count": 13,
   "metadata": {
    "ExecuteTime": {
     "end_time": "2022-01-17T19:22:55.801058Z",
     "start_time": "2022-01-17T19:22:55.686369Z"
    }
   },
   "outputs": [
    {
     "name": "stdout",
     "output_type": "stream",
     "text": [
      "\n",
      "   /Users/cian/dropbox/modelling/example_logs/1_1.log will be analyzed using the vdw surface\n",
      "   Defining the molecule with Bondi atomic radii scaled by 1.0\n",
      "\n",
      "   Translating molecule by [-0.728401  0.045126 -0.      ] to set Br1 at the origin\n",
      "   Rotating molecule about X-axis 90.00 degrees\n",
      "   Rotating molecule about Y-axis 72.46 degrees\n",
      "\n",
      "   Molecule is bounded by the region X:[-3.850 to  3.850] Y:[-3.850 to  3.850] Z:[-3.850 to  4.850]\n",
      "\n",
      "   Steric parameters will be generated in classic mode for /Users/cian/dropbox/modelling/example_logs/1_1.log\n",
      "\n",
      "   /Users/cian/dropbox/modelling/example_logs/1_1.log / Bmin:  1.83 / Bmax:  3.19 / L:  4.80\n"
     ]
    },
    {
     "data": {
      "text/html": [
       "<div>\n",
       "<style scoped>\n",
       "    .dataframe tbody tr th:only-of-type {\n",
       "        vertical-align: middle;\n",
       "    }\n",
       "\n",
       "    .dataframe tbody tr th {\n",
       "        vertical-align: top;\n",
       "    }\n",
       "\n",
       "    .dataframe thead th {\n",
       "        text-align: right;\n",
       "    }\n",
       "</style>\n",
       "<table border=\"1\" class=\"dataframe\">\n",
       "  <thead>\n",
       "    <tr style=\"text-align: right;\">\n",
       "      <th></th>\n",
       "      <th>File</th>\n",
       "      <th>L</th>\n",
       "      <th>Bmin</th>\n",
       "      <th>Bmax</th>\n",
       "    </tr>\n",
       "  </thead>\n",
       "  <tbody>\n",
       "    <tr>\n",
       "      <th>0</th>\n",
       "      <td>/Users/cian/dropbox/modelling/example_logs/1_1...</td>\n",
       "      <td>4.801229</td>\n",
       "      <td>1.83</td>\n",
       "      <td>3.188027</td>\n",
       "    </tr>\n",
       "  </tbody>\n",
       "</table>\n",
       "</div>"
      ],
      "text/plain": [
       "                                                File         L  Bmin      Bmax\n",
       "0  /Users/cian/dropbox/modelling/example_logs/1_1...  4.801229  1.83  3.188027"
      ]
     },
     "execution_count": 13,
     "metadata": {},
     "output_type": "execute_result"
    }
   ],
   "source": [
    "path = '/Users/cian/dropbox/modelling/example_logs/1_1.log'\n",
    "\n",
    "params = {'File':[], 'L':[], 'Bmin':[], 'Bmax':[]}\n",
    "df = pd.DataFrame(params, columns = ['File','L','Bmin','Bmax'])\n",
    "mol = db.dbstep(path,atom1=1,atom2=2,commandline=True,verbose=True,sterimol=True,measure='classic')\n",
    "L = mol.L\n",
    "Bmin = mol.Bmin\n",
    "Bmax = mol.Bmax\n",
    "x = [path,L,Bmin,Bmax]\n",
    "df.loc[0] = x\n",
    "df"
   ]
  },
  {
   "cell_type": "markdown",
   "metadata": {},
   "source": [
    "**Buried volume**"
   ]
  },
  {
   "cell_type": "code",
   "execution_count": 15,
   "metadata": {
    "ExecuteTime": {
     "end_time": "2022-01-17T19:25:45.613227Z",
     "start_time": "2022-01-17T19:25:45.606888Z"
    }
   },
   "outputs": [
    {
     "name": "stdout",
     "output_type": "stream",
     "text": [
      "3\n",
      "['1_1.log', '2_1.log', '3_1.log']\n"
     ]
    }
   ],
   "source": [
    "files = os.listdir('/Users/cian/dropbox/modelling/example_logs/')\n",
    "files = sorted(files)\n",
    "#files.remove('.DS_Store')\n",
    "print(len(files))\n",
    "print(files)"
   ]
  },
  {
   "cell_type": "code",
   "execution_count": 16,
   "metadata": {
    "ExecuteTime": {
     "end_time": "2022-01-17T19:25:57.576106Z",
     "start_time": "2022-01-17T19:25:57.554181Z"
    }
   },
   "outputs": [
    {
     "data": {
      "text/html": [
       "<div>\n",
       "<style scoped>\n",
       "    .dataframe tbody tr th:only-of-type {\n",
       "        vertical-align: middle;\n",
       "    }\n",
       "\n",
       "    .dataframe tbody tr th {\n",
       "        vertical-align: top;\n",
       "    }\n",
       "\n",
       "    .dataframe thead th {\n",
       "        text-align: right;\n",
       "    }\n",
       "</style>\n",
       "<table border=\"1\" class=\"dataframe\">\n",
       "  <thead>\n",
       "    <tr style=\"text-align: right;\">\n",
       "      <th></th>\n",
       "      <th>File</th>\n",
       "      <th>bur_vol</th>\n",
       "      <th>bur_shell</th>\n",
       "    </tr>\n",
       "  </thead>\n",
       "  <tbody>\n",
       "  </tbody>\n",
       "</table>\n",
       "</div>"
      ],
      "text/plain": [
       "Empty DataFrame\n",
       "Columns: [File, bur_vol, bur_shell]\n",
       "Index: []"
      ]
     },
     "execution_count": 16,
     "metadata": {},
     "output_type": "execute_result"
    }
   ],
   "source": [
    "params = {'File':[], 'bur_vol':[], 'bur_shell':[]}\n",
    "df = pd.DataFrame(params, columns = ['File','bur_vol','bur_shell'])\n",
    "df"
   ]
  },
  {
   "cell_type": "code",
   "execution_count": 17,
   "metadata": {
    "ExecuteTime": {
     "end_time": "2022-01-17T19:26:09.678260Z",
     "start_time": "2022-01-17T19:26:06.916381Z"
    },
    "scrolled": false
   },
   "outputs": [
    {
     "name": "stdout",
     "output_type": "stream",
     "text": [
      "/Users/cian/dropbox/modelling/example_logs/1_1.log\n",
      "\n",
      "   /Users/cian/dropbox/modelling/example_logs/1_1.log will be analyzed using the vdw surface\n",
      "   Defining the molecule with Bondi atomic radii scaled by 1.0\n",
      "\n",
      "   Translating molecule by [ 1.089685e+00 -5.294800e-01  1.000000e-06] to set C2 at the origin\n",
      "\n",
      "   Molecule is bounded by the region X:[-3.850 to  3.850] Y:[-3.850 to  3.850] Z:[-3.850 to  3.850]\n",
      "\n",
      "   Using a Cartesian grid-spacing of 0.0500 Angstrom.\n",
      "   There are 3723875 grid points.\n",
      "   There are 439094 occupied grid points.\n",
      "   Molecular volume is 54.8868 Ang^3\n",
      "\n",
      "   Steric parameters will be generated in grid mode for /Users/cian/dropbox/modelling/example_logs/1_1.log\n",
      "\n",
      "      R/Å     %V_Bur     %S_Bur\n",
      "   RADIUS:  3.50, VFREE:  125.22, VBURIED:   54.31, VTOTAL:  179.53, VEXACT:  179.59, NVOXEL: 1436214, %V_Bur:   30.25%,  Tot/Ex:    0.04%\n",
      "     3.50      30.25       0.00\n",
      "/Users/cian/dropbox/modelling/example_logs/2_1.log\n",
      "\n",
      "   /Users/cian/dropbox/modelling/example_logs/2_1.log will be analyzed using the vdw surface\n",
      "   Defining the molecule with Bondi atomic radii scaled by 1.0\n",
      "\n",
      "   Translating molecule by [-5.87998e-01 -4.90836e-01  2.00000e-06] to set C2 at the origin\n",
      "\n",
      "   Molecule is bounded by the region X:[-3.850 to  4.200] Y:[-3.850 to  3.850] Z:[-3.850 to  3.850]\n",
      "\n",
      "   Using a Cartesian grid-spacing of 0.0500 Angstrom.\n",
      "   There are 3892050 grid points.\n",
      "   There are 560332 occupied grid points.\n",
      "   Molecular volume is 70.0415 Ang^3\n",
      "\n",
      "   Steric parameters will be generated in grid mode for /Users/cian/dropbox/modelling/example_logs/2_1.log\n",
      "\n",
      "      R/Å     %V_Bur     %S_Bur\n",
      "   RADIUS:  3.50, VFREE:  115.40, VBURIED:   64.13, VTOTAL:  179.53, VEXACT:  179.59, NVOXEL: 1436214, %V_Bur:   35.72%,  Tot/Ex:    0.04%\n",
      "     3.50      35.72       0.00\n",
      "/Users/cian/dropbox/modelling/example_logs/3_1.log\n",
      "\n",
      "   /Users/cian/dropbox/modelling/example_logs/3_1.log will be analyzed using the vdw surface\n",
      "   Defining the molecule with Bondi atomic radii scaled by 1.0\n",
      "\n",
      "   Translating molecule by [ 4.690310e-01 -1.029432e+00  1.000000e-06] to set C2 at the origin\n",
      "\n",
      "   Molecule is bounded by the region X:[-3.850 to  3.850] Y:[-3.850 to  3.850] Z:[-3.850 to  3.850]\n",
      "\n",
      "   Using a Cartesian grid-spacing of 0.0500 Angstrom.\n",
      "   There are 3723875 grid points.\n",
      "   There are 560035 occupied grid points.\n",
      "   Molecular volume is 70.0044 Ang^3\n",
      "\n",
      "   Steric parameters will be generated in grid mode for /Users/cian/dropbox/modelling/example_logs/3_1.log\n",
      "\n",
      "      R/Å     %V_Bur     %S_Bur\n",
      "   RADIUS:  3.50, VFREE:  115.92, VBURIED:   63.61, VTOTAL:  179.53, VEXACT:  179.59, NVOXEL: 1436214, %V_Bur:   35.43%,  Tot/Ex:    0.04%\n",
      "     3.50      35.43       0.00\n"
     ]
    }
   ],
   "source": [
    "count = 0\n",
    "for i in files:\n",
    "    fp = str('/Users/cian/dropbox/modelling/example_logs/'+str(i))\n",
    "    print(fp)\n",
    "    mol = db.dbstep(fp,atom1=2,commandline=True,verbose=True,volume=True,r=3.5,measure='classic')\n",
    "    bur_vol = mol.bur_vol\n",
    "    bur_shell = mol.bur_shell\n",
    "    x = [i,bur_vol,bur_shell]\n",
    "    df.loc[count] = x\n",
    "    count+=1"
   ]
  },
  {
   "cell_type": "code",
   "execution_count": 18,
   "metadata": {
    "ExecuteTime": {
     "end_time": "2022-01-17T19:26:39.117996Z",
     "start_time": "2022-01-17T19:26:39.093970Z"
    }
   },
   "outputs": [
    {
     "data": {
      "text/html": [
       "<div>\n",
       "<style scoped>\n",
       "    .dataframe tbody tr th:only-of-type {\n",
       "        vertical-align: middle;\n",
       "    }\n",
       "\n",
       "    .dataframe tbody tr th {\n",
       "        vertical-align: top;\n",
       "    }\n",
       "\n",
       "    .dataframe thead th {\n",
       "        text-align: right;\n",
       "    }\n",
       "</style>\n",
       "<table border=\"1\" class=\"dataframe\">\n",
       "  <thead>\n",
       "    <tr style=\"text-align: right;\">\n",
       "      <th></th>\n",
       "      <th>File</th>\n",
       "      <th>bur_vol</th>\n",
       "      <th>bur_shell</th>\n",
       "    </tr>\n",
       "  </thead>\n",
       "  <tbody>\n",
       "    <tr>\n",
       "      <th>0</th>\n",
       "      <td>1_1.log</td>\n",
       "      <td>30.250158</td>\n",
       "      <td>0.0</td>\n",
       "    </tr>\n",
       "    <tr>\n",
       "      <th>1</th>\n",
       "      <td>2_1.log</td>\n",
       "      <td>35.720512</td>\n",
       "      <td>0.0</td>\n",
       "    </tr>\n",
       "    <tr>\n",
       "      <th>2</th>\n",
       "      <td>3_1.log</td>\n",
       "      <td>35.430375</td>\n",
       "      <td>0.0</td>\n",
       "    </tr>\n",
       "  </tbody>\n",
       "</table>\n",
       "</div>"
      ],
      "text/plain": [
       "      File    bur_vol  bur_shell\n",
       "0  1_1.log  30.250158        0.0\n",
       "1  2_1.log  35.720512        0.0\n",
       "2  3_1.log  35.430375        0.0"
      ]
     },
     "execution_count": 18,
     "metadata": {},
     "output_type": "execute_result"
    }
   ],
   "source": [
    "df"
   ]
  },
  {
   "cell_type": "code",
   "execution_count": null,
   "metadata": {},
   "outputs": [],
   "source": [
    "df.to_excel(r'vbur.xlsx', index = False)"
   ]
  },
  {
   "cell_type": "markdown",
   "metadata": {},
   "source": [
    "For a single file"
   ]
  },
  {
   "cell_type": "code",
   "execution_count": 19,
   "metadata": {
    "ExecuteTime": {
     "end_time": "2022-01-17T19:26:52.383836Z",
     "start_time": "2022-01-17T19:26:51.535327Z"
    }
   },
   "outputs": [
    {
     "name": "stdout",
     "output_type": "stream",
     "text": [
      "\n",
      "   /Users/cian/dropbox/modelling/example_logs/1_1.log will be analyzed using the vdw surface\n",
      "   Defining the molecule with Bondi atomic radii scaled by 1.0\n",
      "\n",
      "   Translating molecule by [ 1.089685e+00 -5.294800e-01  1.000000e-06] to set C2 at the origin\n",
      "\n",
      "   Molecule is bounded by the region X:[-3.850 to  3.850] Y:[-3.850 to  3.850] Z:[-3.850 to  3.850]\n",
      "\n",
      "   Using a Cartesian grid-spacing of 0.0500 Angstrom.\n",
      "   There are 3723875 grid points.\n",
      "   There are 439094 occupied grid points.\n",
      "   Molecular volume is 54.8868 Ang^3\n",
      "\n",
      "   Steric parameters will be generated in grid mode for /Users/cian/dropbox/modelling/example_logs/1_1.log\n",
      "\n",
      "      R/Å     %V_Bur     %S_Bur\n",
      "   RADIUS:  3.50, VFREE:  125.22, VBURIED:   54.31, VTOTAL:  179.53, VEXACT:  179.59, NVOXEL: 1436214, %V_Bur:   30.25%,  Tot/Ex:    0.04%\n",
      "     3.50      30.25       0.00\n"
     ]
    },
    {
     "data": {
      "text/html": [
       "<div>\n",
       "<style scoped>\n",
       "    .dataframe tbody tr th:only-of-type {\n",
       "        vertical-align: middle;\n",
       "    }\n",
       "\n",
       "    .dataframe tbody tr th {\n",
       "        vertical-align: top;\n",
       "    }\n",
       "\n",
       "    .dataframe thead th {\n",
       "        text-align: right;\n",
       "    }\n",
       "</style>\n",
       "<table border=\"1\" class=\"dataframe\">\n",
       "  <thead>\n",
       "    <tr style=\"text-align: right;\">\n",
       "      <th></th>\n",
       "      <th>File</th>\n",
       "      <th>bur_vol</th>\n",
       "      <th>bur_shell</th>\n",
       "    </tr>\n",
       "  </thead>\n",
       "  <tbody>\n",
       "    <tr>\n",
       "      <th>0</th>\n",
       "      <td>/Users/cian/dropbox/modelling/example_logs/1_1...</td>\n",
       "      <td>30.250158</td>\n",
       "      <td>0.0</td>\n",
       "    </tr>\n",
       "  </tbody>\n",
       "</table>\n",
       "</div>"
      ],
      "text/plain": [
       "                                                File    bur_vol  bur_shell\n",
       "0  /Users/cian/dropbox/modelling/example_logs/1_1...  30.250158        0.0"
      ]
     },
     "execution_count": 19,
     "metadata": {},
     "output_type": "execute_result"
    }
   ],
   "source": [
    "path = '/Users/cian/dropbox/modelling/example_logs/1_1.log'\n",
    "\n",
    "params = {'File':[], 'bur_vol':[], 'bur_shell':[]}\n",
    "df = pd.DataFrame(params, columns = ['File','bur_vol','bur_shell'])\n",
    "mol = db.dbstep(path,atom1=2,commandline=True,verbose=True,volume=True,r=3.5,measure='classic')\n",
    "bur_vol = mol.bur_vol\n",
    "bur_shell = mol.bur_shell\n",
    "x = [path,bur_vol,bur_shell]\n",
    "df.loc[0] = x\n",
    "df"
   ]
  },
  {
   "cell_type": "markdown",
   "metadata": {},
   "source": [
    "**Vol2vec**\n",
    "\n",
    "Set up to give a list of volumes starting at 2.0A and going to 5.0A every 1.0A\n",
    "\n",
    "Buried shell (bur_shell): Measuring the occupancy of a hollow sphere. Paton has found them useful because for normal buried volume, the larger spheres will directly depend on smaller spheres, since it encapsulates the previous measurement and adds to it. So the idea of the shells is that they’re less dependent on previous measurements, ie less correlation between different scan measurements of the same molecule\n",
    "\n",
    "Produces file.xyz_transform and file.py files in the folder of the file.xyz (neither sterimol or bur_vol calculation does)"
   ]
  },
  {
   "cell_type": "code",
   "execution_count": 21,
   "metadata": {
    "ExecuteTime": {
     "end_time": "2022-01-17T19:27:51.354547Z",
     "start_time": "2022-01-17T19:27:51.345710Z"
    }
   },
   "outputs": [
    {
     "name": "stdout",
     "output_type": "stream",
     "text": [
      "3\n",
      "['1_1.log', '2_1.log', '3_1.log']\n"
     ]
    }
   ],
   "source": [
    "files = os.listdir('/Users/cian/dropbox/modelling/example_logs/')\n",
    "files = sorted(files)\n",
    "#files.remove('.DS_Store')\n",
    "print(len(files))\n",
    "print(files)"
   ]
  },
  {
   "cell_type": "code",
   "execution_count": 22,
   "metadata": {
    "ExecuteTime": {
     "end_time": "2022-01-17T19:27:55.434885Z",
     "start_time": "2022-01-17T19:27:55.408953Z"
    }
   },
   "outputs": [
    {
     "data": {
      "text/html": [
       "<div>\n",
       "<style scoped>\n",
       "    .dataframe tbody tr th:only-of-type {\n",
       "        vertical-align: middle;\n",
       "    }\n",
       "\n",
       "    .dataframe tbody tr th {\n",
       "        vertical-align: top;\n",
       "    }\n",
       "\n",
       "    .dataframe thead th {\n",
       "        text-align: right;\n",
       "    }\n",
       "</style>\n",
       "<table border=\"1\" class=\"dataframe\">\n",
       "  <thead>\n",
       "    <tr style=\"text-align: right;\">\n",
       "      <th></th>\n",
       "      <th>File</th>\n",
       "      <th>bur_vol_2A</th>\n",
       "      <th>bur_vol_3A</th>\n",
       "      <th>bur_vol_4A</th>\n",
       "      <th>bur_vol_5A</th>\n",
       "      <th>bur_shell_2A</th>\n",
       "      <th>bur_shell_3A</th>\n",
       "      <th>bur_shell_4A</th>\n",
       "      <th>bur_shell_5A</th>\n",
       "    </tr>\n",
       "  </thead>\n",
       "  <tbody>\n",
       "  </tbody>\n",
       "</table>\n",
       "</div>"
      ],
      "text/plain": [
       "Empty DataFrame\n",
       "Columns: [File, bur_vol_2A, bur_vol_3A, bur_vol_4A, bur_vol_5A, bur_shell_2A, bur_shell_3A, bur_shell_4A, bur_shell_5A]\n",
       "Index: []"
      ]
     },
     "execution_count": 22,
     "metadata": {},
     "output_type": "execute_result"
    }
   ],
   "source": [
    "params = {'File':[],'bur_vol_2A':[],'bur_vol_3A':[],'bur_vol_4A':[],'bur_vol_5A':[],'bur_shell_2A':[],'bur_shell_3A':[],'bur_shell_4A':[],'bur_shell_5A':[]}\n",
    "df = pd.DataFrame(params, columns = ['File','bur_vol_2A','bur_vol_3A','bur_vol_4A','bur_vol_5A','bur_shell_2A','bur_shell_3A','bur_shell_4A','bur_shell_5A'])\n",
    "df"
   ]
  },
  {
   "cell_type": "code",
   "execution_count": 27,
   "metadata": {
    "ExecuteTime": {
     "end_time": "2022-01-17T19:29:50.368602Z",
     "start_time": "2022-01-17T19:29:41.665313Z"
    },
    "scrolled": true
   },
   "outputs": [
    {
     "name": "stdout",
     "output_type": "stream",
     "text": [
      "/Users/cian/dropbox/modelling/example_logs/1_1.log\n",
      "      R/Å     %V_Bur     %S_Bur\n",
      "     2.00      83.54      49.98\n",
      "     3.00      44.17      12.73\n",
      "     4.00      20.48       0.29\n",
      "     5.00      10.48       0.00\n",
      "/Users/cian/dropbox/modelling/example_logs/2_1.log\n",
      "      R/Å     %V_Bur     %S_Bur\n",
      "     2.00      84.11      52.82\n",
      "     3.00      48.07      20.06\n",
      "     4.00      25.78       2.93\n",
      "     5.00      13.38       0.00\n",
      "/Users/cian/dropbox/modelling/example_logs/3_1.log\n",
      "      R/Å     %V_Bur     %S_Bur\n",
      "     2.00      83.79      52.24\n",
      "     3.00      47.62      19.86\n",
      "     4.00      25.68       3.16\n",
      "     5.00      13.37       0.00\n"
     ]
    }
   ],
   "source": [
    "count = 0\n",
    "for i in files:\n",
    "    fp = str('/Users/cian/dropbox/modelling/example_logs/'+str(i))\n",
    "    print(fp)\n",
    "    mol = db.dbstep(fp,atom1=2,scan=\"2.0:5.0:1.0\",volume=True)\n",
    "    bur_vol = mol.bur_vol\n",
    "    bur_shell = mol.bur_shell\n",
    "    x = [i,bur_vol[0],bur_vol[1],bur_vol[2],bur_vol[3],bur_shell[0],bur_shell[1],bur_shell[2],bur_shell[3]]\n",
    "    df.loc[count] = x\n",
    "    count+=1"
   ]
  },
  {
   "cell_type": "code",
   "execution_count": 28,
   "metadata": {
    "ExecuteTime": {
     "end_time": "2022-01-17T19:29:53.112475Z",
     "start_time": "2022-01-17T19:29:53.093926Z"
    }
   },
   "outputs": [
    {
     "data": {
      "text/html": [
       "<div>\n",
       "<style scoped>\n",
       "    .dataframe tbody tr th:only-of-type {\n",
       "        vertical-align: middle;\n",
       "    }\n",
       "\n",
       "    .dataframe tbody tr th {\n",
       "        vertical-align: top;\n",
       "    }\n",
       "\n",
       "    .dataframe thead th {\n",
       "        text-align: right;\n",
       "    }\n",
       "</style>\n",
       "<table border=\"1\" class=\"dataframe\">\n",
       "  <thead>\n",
       "    <tr style=\"text-align: right;\">\n",
       "      <th></th>\n",
       "      <th>File</th>\n",
       "      <th>bur_vol_2A</th>\n",
       "      <th>bur_vol_3A</th>\n",
       "      <th>bur_vol_4A</th>\n",
       "      <th>bur_vol_5A</th>\n",
       "      <th>bur_shell_2A</th>\n",
       "      <th>bur_shell_3A</th>\n",
       "      <th>bur_shell_4A</th>\n",
       "      <th>bur_shell_5A</th>\n",
       "    </tr>\n",
       "  </thead>\n",
       "  <tbody>\n",
       "    <tr>\n",
       "      <th>0</th>\n",
       "      <td>1_1.log</td>\n",
       "      <td>83.540555</td>\n",
       "      <td>44.168760</td>\n",
       "      <td>20.483535</td>\n",
       "      <td>10.484982</td>\n",
       "      <td>49.981798</td>\n",
       "      <td>12.732103</td>\n",
       "      <td>0.286355</td>\n",
       "      <td>0.0</td>\n",
       "    </tr>\n",
       "    <tr>\n",
       "      <th>1</th>\n",
       "      <td>2_1.log</td>\n",
       "      <td>84.114226</td>\n",
       "      <td>48.068974</td>\n",
       "      <td>25.783753</td>\n",
       "      <td>13.380099</td>\n",
       "      <td>52.818816</td>\n",
       "      <td>20.061408</td>\n",
       "      <td>2.925276</td>\n",
       "      <td>0.0</td>\n",
       "    </tr>\n",
       "    <tr>\n",
       "      <th>2</th>\n",
       "      <td>3_1.log</td>\n",
       "      <td>83.793777</td>\n",
       "      <td>47.619775</td>\n",
       "      <td>25.676225</td>\n",
       "      <td>13.372959</td>\n",
       "      <td>52.241473</td>\n",
       "      <td>19.864180</td>\n",
       "      <td>3.164751</td>\n",
       "      <td>0.0</td>\n",
       "    </tr>\n",
       "  </tbody>\n",
       "</table>\n",
       "</div>"
      ],
      "text/plain": [
       "      File  bur_vol_2A  bur_vol_3A  bur_vol_4A  bur_vol_5A  bur_shell_2A  \\\n",
       "0  1_1.log   83.540555   44.168760   20.483535   10.484982     49.981798   \n",
       "1  2_1.log   84.114226   48.068974   25.783753   13.380099     52.818816   \n",
       "2  3_1.log   83.793777   47.619775   25.676225   13.372959     52.241473   \n",
       "\n",
       "   bur_shell_3A  bur_shell_4A  bur_shell_5A  \n",
       "0     12.732103      0.286355           0.0  \n",
       "1     20.061408      2.925276           0.0  \n",
       "2     19.864180      3.164751           0.0  "
      ]
     },
     "execution_count": 28,
     "metadata": {},
     "output_type": "execute_result"
    }
   ],
   "source": [
    "df"
   ]
  },
  {
   "cell_type": "code",
   "execution_count": null,
   "metadata": {},
   "outputs": [],
   "source": [
    "df.to_excel(r'vol2vec.xlsx', index = False)"
   ]
  },
  {
   "cell_type": "markdown",
   "metadata": {},
   "source": [
    "For a single file"
   ]
  },
  {
   "cell_type": "code",
   "execution_count": 32,
   "metadata": {
    "ExecuteTime": {
     "end_time": "2022-01-17T19:32:20.994115Z",
     "start_time": "2022-01-17T19:32:17.960412Z"
    }
   },
   "outputs": [
    {
     "name": "stdout",
     "output_type": "stream",
     "text": [
      "      R/Å     %V_Bur     %S_Bur\n",
      "     2.00      83.54      49.98\n",
      "     3.00      44.17      12.73\n",
      "     4.00      20.48       0.29\n",
      "     5.00      10.48       0.00\n"
     ]
    }
   ],
   "source": [
    "mol = db.dbstep('/Users/cian/dropbox/modelling/example_logs/1_1.log',atom1=2,scan=\"2.0:5.0:1.0\",volume=True)\n",
    "bur_vol = mol.bur_vol\n",
    "bur_shell = mol.bur_shell"
   ]
  },
  {
   "cell_type": "code",
   "execution_count": 33,
   "metadata": {
    "ExecuteTime": {
     "end_time": "2022-01-17T19:32:25.833323Z",
     "start_time": "2022-01-17T19:32:25.822793Z"
    }
   },
   "outputs": [
    {
     "data": {
      "text/plain": [
       "[83.54055477331381, 44.16876001738836, 20.483535163967275, 10.484981526139325]"
      ]
     },
     "execution_count": 33,
     "metadata": {},
     "output_type": "execute_result"
    }
   ],
   "source": [
    "bur_vol"
   ]
  },
  {
   "cell_type": "code",
   "execution_count": 34,
   "metadata": {
    "ExecuteTime": {
     "end_time": "2022-01-17T19:32:29.365844Z",
     "start_time": "2022-01-17T19:32:29.358012Z"
    }
   },
   "outputs": [
    {
     "data": {
      "text/plain": [
       "[49.98179786299397, 12.732103419933113, 0.28635520201378584, 0.0]"
      ]
     },
     "execution_count": 34,
     "metadata": {},
     "output_type": "execute_result"
    }
   ],
   "source": [
    "bur_shell"
   ]
  },
  {
   "cell_type": "code",
   "execution_count": null,
   "metadata": {},
   "outputs": [],
   "source": []
  }
 ],
 "metadata": {
  "kernelspec": {
   "display_name": "Python 3",
   "language": "python",
   "name": "python3"
  },
  "language_info": {
   "codemirror_mode": {
    "name": "ipython",
    "version": 3
   },
   "file_extension": ".py",
   "mimetype": "text/x-python",
   "name": "python",
   "nbconvert_exporter": "python",
   "pygments_lexer": "ipython3",
   "version": "3.7.3"
  },
  "toc": {
   "base_numbering": 1,
   "nav_menu": {},
   "number_sections": true,
   "sideBar": true,
   "skip_h1_title": false,
   "title_cell": "Table of Contents",
   "title_sidebar": "Contents",
   "toc_cell": false,
   "toc_position": {},
   "toc_section_display": true,
   "toc_window_display": false
  }
 },
 "nbformat": 4,
 "nbformat_minor": 4
}
